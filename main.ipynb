{
 "cells": [
  {
   "cell_type": "markdown",
   "metadata": {},
   "source": [
    "****\n",
    "<h1 style=\"text-align:center\">Petri Net</h1>\n",
    "\n",
    "****"
   ]
  },
  {
   "cell_type": "markdown",
   "metadata": {},
   "source": [
    "****\n",
    "<p style=\"text-align:center\">Initiated by Minbo Chung<br/>2023-09-21</p>\n",
    "\n",
    "****"
   ]
  },
  {
   "cell_type": "code",
   "execution_count": 1,
   "metadata": {},
   "outputs": [],
   "source": [
    "from sys import path\n",
    "path.append('./code')\n",
    "from petri_net import PetriNet"
   ]
  },
  {
   "cell_type": "code",
   "execution_count": 2,
   "metadata": {},
   "outputs": [],
   "source": [
    "net = PetriNet()"
   ]
  },
  {
   "cell_type": "markdown",
   "metadata": {},
   "source": [
    "## <center>Display current net</center>"
   ]
  },
  {
   "cell_type": "code",
   "execution_count": 12,
   "metadata": {},
   "outputs": [
    {
     "name": "stdout",
     "output_type": "stream",
     "text": [
      "Current state M:\n",
      "\n",
      "\"Set of places       = {'p1': 0, 'p2': 1, 'p3': 0, 'p4': 0, 'p5': 0}\"\n",
      "(\"Set of transitions  = {'t1': True, 't2': False, 't3': False, 't4': False, \"\n",
      " \"'t5': False}\")\n",
      "(\"Set of arcs         = [('p1', 't1', 1), ('t1', 'p2', 1), ('p2', 't2', 1), \"\n",
      " \"('t2', 'p3', 1), ('p3', 't3', 1), ('t3', 'p4', 1), ('p4', 't4', 1), ('t4', \"\n",
      " \"'p5', 1), ('p5', 't5', 1), ('t5', 'p1', 1)]\")\n"
     ]
    }
   ],
   "source": [
    "net.display_net()"
   ]
  },
  {
   "cell_type": "markdown",
   "metadata": {},
   "source": [
    "## <center>Append places</center>"
   ]
  },
  {
   "cell_type": "code",
   "execution_count": 4,
   "metadata": {},
   "outputs": [],
   "source": [
    "for i in range(5):\n",
    "    net.append_p(f\"p{i+1}\")"
   ]
  },
  {
   "cell_type": "markdown",
   "metadata": {},
   "source": [
    "## <center>Append transitions</center>"
   ]
  },
  {
   "cell_type": "code",
   "execution_count": 5,
   "metadata": {},
   "outputs": [],
   "source": [
    "for i in range(5):\n",
    "    net.append_t(f\"t{i+1}\")"
   ]
  },
  {
   "cell_type": "markdown",
   "metadata": {},
   "source": [
    "## <center>Append arcs</center>"
   ]
  },
  {
   "cell_type": "code",
   "execution_count": 7,
   "metadata": {},
   "outputs": [],
   "source": [
    "net.append_arc('p1', 't1')\n",
    "net.append_arc('t1', 'p2')\n",
    "\n",
    "net.append_arc('p2', 't2')\n",
    "net.append_arc('t2', 'p3')\n",
    "\n",
    "net.append_arc('p3', 't3')\n",
    "net.append_arc('t3', 'p4')\n",
    "\n",
    "net.append_arc('p4', 't4')\n",
    "net.append_arc('t4', 'p5')\n",
    "\n",
    "net.append_arc('p5', 't5')\n",
    "net.append_arc('t5', 'p1')"
   ]
  },
  {
   "cell_type": "markdown",
   "metadata": {},
   "source": [
    "## <center>Add token to a specific place</center>"
   ]
  },
  {
   "cell_type": "code",
   "execution_count": 9,
   "metadata": {},
   "outputs": [],
   "source": [
    "p_name = 'p1'\n",
    "net.add_token(p_name)"
   ]
  },
  {
   "cell_type": "markdown",
   "metadata": {},
   "source": [
    "## <center>Fire transition</center>"
   ]
  },
  {
   "cell_type": "code",
   "execution_count": 11,
   "metadata": {},
   "outputs": [
    {
     "name": "stdout",
     "output_type": "stream",
     "text": [
      "can_fire: t1 exist in [('p1', 't1', 1), ('t1', 'p2', 1)] and thus for F.\n"
     ]
    }
   ],
   "source": [
    "net.fire_transition('t1')"
   ]
  }
 ],
 "metadata": {
  "kernelspec": {
   "display_name": "Python 3",
   "language": "python",
   "name": "python3"
  },
  "language_info": {
   "codemirror_mode": {
    "name": "ipython",
    "version": 3
   },
   "file_extension": ".py",
   "mimetype": "text/x-python",
   "name": "python",
   "nbconvert_exporter": "python",
   "pygments_lexer": "ipython3",
   "version": "3.11.5"
  },
  "orig_nbformat": 4
 },
 "nbformat": 4,
 "nbformat_minor": 2
}
